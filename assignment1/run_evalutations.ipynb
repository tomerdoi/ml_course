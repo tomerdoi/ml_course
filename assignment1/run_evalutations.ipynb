{
 "cells": [
  {
   "cell_type": "code",
   "execution_count": null,
   "metadata": {
    "collapsed": true
   },
   "outputs": [],
   "source": [
    "from datetime import datetime\n",
    "\n",
    "import wandb\n",
    "from sklearn import datasets\n",
    "from sklearn.ensemble import BaggingClassifier\n",
    "from sklearn.model_selection import cross_validate, RepeatedStratifiedKFold\n",
    "from sklearn.tree import DecisionTreeClassifier\n",
    "\n",
    "from assignment1.bagging_id3 import MyBaggingID3\n"
   ]
  },
  {
   "cell_type": "code",
   "execution_count": null,
   "outputs": [],
   "source": [
    "! wandb login"
   ],
   "metadata": {
    "collapsed": false
   }
  },
  {
   "cell_type": "code",
   "execution_count": null,
   "outputs": [],
   "source": [
    "def evaluate_model(model, ds_name, X, y, x_test, y_test):\n",
    "    # Define the evaluation metrics\n",
    "    scoring = {\n",
    "        'accuracy': 'accuracy',\n",
    "        'precision': 'precision',\n",
    "        'recall': 'recall',\n",
    "        'f1_score': 'f1',\n",
    "        'roc_auc_score': 'roc_auc'\n",
    "    }\n",
    "    # Define the cross-validation procedure\n",
    "    cv = RepeatedStratifiedKFold(n_splits=5, n_repeats=2, random_state=42)\n",
    "    # Evaluate the models\n",
    "    cv_results = cross_validate(model, X, y, cv=cv, scoring=scoring, return_train_score=False)\n",
    "    model_config = model.get_params()\n",
    "    wandb.init(project=\"Assigment1\", name=f\"{model.__class__.__name__}_{ds_name}_{datetime.now()}\",\n",
    "               config=model_config)\n",
    "    wandb.config.update({'fit_time': cv_results['fit_time']})\n",
    "    wandb.log({metric: cv_results['test_%s' % metric].mean() for metric in scoring})\n",
    "    # y_pred = model.predict(x_test)\n",
    "\n",
    "    wandb.finish()"
   ],
   "metadata": {
    "collapsed": false
   }
  },
  {
   "cell_type": "code",
   "execution_count": null,
   "outputs": [],
   "source": [
    "n_estimetors = 250\n",
    "max_samples = 1\n",
    "max_features = 0.4\n",
    "max_depth = 50"
   ],
   "metadata": {
    "collapsed": false
   }
  },
  {
   "cell_type": "code",
   "execution_count": null,
   "outputs": [],
   "source": [
    "# Define the models\n",
    "my_bagging_id3 = MyBaggingID3(n_estimators=n_estimetors, max_samples=max_samples,\n",
    "                              max_features=max_features, max_depth=max_depth)\n",
    "dtc = DecisionTreeClassifier()\n",
    "bc = BaggingClassifier(base_estimator=dtc, n_estimators=n_estimetors)"
   ],
   "metadata": {
    "collapsed": false,
    "pycharm": {
     "is_executing": true
    }
   }
  },
  {
   "cell_type": "code",
   "execution_count": null,
   "outputs": [],
   "source": [
    "# Dataset 1 -  The 20 newsgroups text dataset\n",
    "X, Y = datasets.fetch_20newsgroups_vectorized(return_X_y=True)\n",
    "x_test, y_test = datasets.fetch_20newsgroups_vectorized(subset='test', return_X_y=True)"
   ],
   "metadata": {
    "collapsed": false
   }
  }
 ],
 "metadata": {
  "kernelspec": {
   "display_name": "Python 3",
   "language": "python",
   "name": "python3"
  },
  "language_info": {
   "codemirror_mode": {
    "name": "ipython",
    "version": 2
   },
   "file_extension": ".py",
   "mimetype": "text/x-python",
   "name": "python",
   "nbconvert_exporter": "python",
   "pygments_lexer": "ipython2",
   "version": "2.7.6"
  }
 },
 "nbformat": 4,
 "nbformat_minor": 0
}
